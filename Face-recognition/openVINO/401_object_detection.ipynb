{
  "cells": [
    {
      "cell_type": "markdown",
      "metadata": {
        "id": "_E2M_jo0O7js"
      },
      "source": [
        "# Live Object Detection with OpenVINO™\n",
        "\n",
        "This notebook demonstrates live object detection with OpenVINO, using the [SSDLite MobileNetV2](https://github.com/openvinotoolkit/open_model_zoo/tree/master/models/public/ssdlite_mobilenet_v2) from [Open Model Zoo](https://github.com/openvinotoolkit/open_model_zoo/). Final part of this notebook shows live inference results from a webcam. Additionally, you can also upload a video file.\n",
        "\n",
        "> **NOTE**: To use this notebook with a webcam, you need to run the notebook on a computer with a webcam. If you run the notebook on a server, the webcam will not work. However, you can still do inference on a video.\n",
        "\n",
        "\n",
        "#### Table of contents:\n",
        "\n",
        "- [Preparation](#Preparation)\n",
        "    - [Install requirements](#Install-requirements)\n",
        "    - [Imports](#Imports)\n",
        "- [The Model](#The-Model)\n",
        "    - [Download the Model](#Download-the-Model)\n",
        "    - [Convert the Model](#Convert-the-Model)\n",
        "    - [Load the Model](#Load-the-Model)\n",
        "- [Processing](#Processing)\n",
        "    - [Process Results](#Process-Results)\n",
        "    - [Main Processing Function](#Main-Processing-Function)\n",
        "- [Run](#Run)\n",
        "    - [Run Live Object Detection](#Run-Live-Object-Detection)\n",
        "- [References](#References)\n",
        "\n"
      ]
    },
    {
      "cell_type": "markdown",
      "metadata": {
        "id": "xqj8sx-DO7jv"
      },
      "source": [
        "## Preparation\n",
        "[back to top ⬆️](#Table-of-contents:)\n",
        "\n",
        "### Install requirements\n",
        "[back to top ⬆️](#Table-of-contents:)\n"
      ]
    },
    {
      "cell_type": "code",
      "execution_count": 1,
      "metadata": {
        "colab": {
          "base_uri": "https://localhost:8080/"
        },
        "id": "TPoc5mf7O7jw",
        "outputId": "88660e84-910f-42ca-94cf-4e9eeb71e942"
      },
      "outputs": [
        {
          "name": "stdout",
          "output_type": "stream",
          "text": [
            "Note: you may need to restart the kernel to use updated packages.\n",
            "Note: you may need to restart the kernel to use updated packages.\n"
          ]
        },
        {
          "data": {
            "text/plain": [
              "('notebook_utils.py', <http.client.HTTPMessage at 0x26497714970>)"
            ]
          },
          "execution_count": 1,
          "metadata": {},
          "output_type": "execute_result"
        }
      ],
      "source": [
        "%pip install -q \"openvino-dev>=2023.1.0\"\n",
        "# %pip install -q tensorflow\n",
        "%pip install -q opencv-python requests tqdm\n",
        "\n",
        "# Fetch `notebook_utils` module\n",
        "import urllib.request\n",
        "urllib.request.urlretrieve(\n",
        "    url='https://raw.githubusercontent.com/openvinotoolkit/openvino_notebooks/main/notebooks/utils/notebook_utils.py',\n",
        "    filename='notebook_utils.py'\n",
        ")"
      ]
    },
    {
      "cell_type": "markdown",
      "metadata": {
        "id": "m-sJ7Er4O7jw"
      },
      "source": [
        "### Imports\n",
        "[back to top ⬆️](#Table-of-contents:)\n"
      ]
    },
    {
      "cell_type": "code",
      "execution_count": 2,
      "metadata": {
        "id": "zBDIy-EaO7jx"
      },
      "outputs": [],
      "source": [
        "import collections\n",
        "import tarfile\n",
        "import time\n",
        "from pathlib import Path\n",
        "\n",
        "import cv2\n",
        "import numpy as np\n",
        "from IPython import display\n",
        "import openvino as ov\n",
        "from openvino.tools.mo.front import tf as ov_tf_front\n",
        "from openvino.tools import mo\n",
        "\n",
        "import notebook_utils as utils"
      ]
    },
    {
      "cell_type": "markdown",
      "metadata": {
        "id": "Lsd-viPPO7jx"
      },
      "source": [
        "## The Model\n",
        "[back to top ⬆️](#Table-of-contents:)\n",
        "\n",
        "### Download the Model\n",
        "[back to top ⬆️](#Table-of-contents:)\n",
        "\n",
        "Use the `download_file`, a function from the `notebook_utils` file. It automatically creates a directory structure and downloads the selected model. This step is skipped if the package is already downloaded and unpacked. The chosen model comes from the public directory, which means it must be converted into OpenVINO Intermediate Representation (OpenVINO IR).\n",
        "\n",
        "> **NOTE**: Using a model other than `ssdlite_mobilenet_v2` may require different conversion parameters as well as pre- and post-processing."
      ]
    },
    {
      "cell_type": "code",
      "execution_count": null,
      "metadata": {
        "id": "tABgsvr7O7jx"
      },
      "outputs": [],
      "source": [
        "# A directory where the model will be downloaded.\n",
        "base_model_dir = Path(\"model\")\n",
        "\n",
        "# The name of the model from Open Model Zoo\n",
        "model_name = \"ssdlite_mobilenet_v2\"\n",
        "\n",
        "archive_name = Path(f\"{model_name}_coco_2018_05_09.tar.gz\")\n",
        "model_url = f\"https://storage.openvinotoolkit.org/repositories/open_model_zoo/public/2022.1/{model_name}/{archive_name}\"\n",
        "\n",
        "# Download the archive\n",
        "downloaded_model_path = base_model_dir / archive_name\n",
        "if not downloaded_model_path.exists():\n",
        "    utils.download_file(model_url, downloaded_model_path.name, downloaded_model_path.parent)\n",
        "\n",
        "# Unpack the model\n",
        "tf_model_path = base_model_dir / archive_name.with_suffix(\"\").stem / \"frozen_inference_graph.pb\"\n",
        "if not tf_model_path.exists():\n",
        "    with tarfile.open(downloaded_model_path) as file:\n",
        "        file.extractall(base_model_dir)"
      ]
    },
    {
      "cell_type": "markdown",
      "metadata": {
        "id": "MN7OANlbO7jx"
      },
      "source": [
        "### Convert the Model\n",
        "[back to top ⬆️](#Table-of-contents:)\n",
        "\n",
        "The pre-trained model is in TensorFlow format. To use it with OpenVINO, convert it to OpenVINO IR format, using [Model Conversion API](https://docs.openvino.ai/2023.3/openvino_docs_model_processing_introduction.html) (`mo.convert_model` function). If the model has been already converted, this step is skipped."
      ]
    },
    {
      "cell_type": "code",
      "execution_count": null,
      "metadata": {
        "id": "qG2jYwyEO7jy",
        "jupyter": {
          "outputs_hidden": false
        }
      },
      "outputs": [],
      "source": [
        "precision = \"FP16\"\n",
        "# The output path for the conversion.\n",
        "converted_model_path = Path(\"model\") / f\"{model_name}_{precision.lower()}.xml\"\n",
        "\n",
        "# Convert it to IR if not previously converted\n",
        "trans_config_path = Path(ov_tf_front.__file__).parent / \"ssd_v2_support.json\"\n",
        "if not converted_model_path.exists():\n",
        "    ov_model = mo.convert_model(\n",
        "        tf_model_path,\n",
        "        compress_to_fp16=(precision == 'FP16'),\n",
        "        transformations_config=trans_config_path,\n",
        "        tensorflow_object_detection_api_pipeline_config=tf_model_path.parent / \"pipeline.config\",\n",
        "        reverse_input_channels=True\n",
        "    )\n",
        "    ov.save_model(ov_model, converted_model_path)\n",
        "    del ov_model"
      ]
    },
    {
      "cell_type": "markdown",
      "metadata": {
        "id": "VNx3hlhoO7jy"
      },
      "source": [
        "### Load the Model\n",
        "[back to top ⬆️](#Table-of-contents:)\n",
        "\n",
        "Only a few lines of code are required to run the model. First, initialize OpenVINO Runtime. Then, read the network architecture and model weights from the `.bin` and `.xml` files to compile for the desired device. If you choose `GPU` you need to wait for a while, as the startup time is much longer than in the case of `CPU`.\n",
        "\n",
        "There is a possibility to let OpenVINO decide which hardware offers the best performance. For that purpose, just use `AUTO`."
      ]
    },
    {
      "cell_type": "code",
      "execution_count": 3,
      "metadata": {
        "colab": {
          "base_uri": "https://localhost:8080/",
          "height": 49,
          "referenced_widgets": [
            "62dd355440454aa88ab09a1eaad3ebf3",
            "95c7d49e56c047afb7c1461d23dbefd5",
            "ddc8c69dabf94a5ea9ef0a4a8feae4b1"
          ]
        },
        "id": "iU_os9JiO7jy",
        "outputId": "3b0bf487-fc13-4355-aed2-1d5c0d01a4f0"
      },
      "outputs": [
        {
          "data": {
            "application/vnd.jupyter.widget-view+json": {
              "model_id": "51ed929c66b341349d225761e403a08c",
              "version_major": 2,
              "version_minor": 0
            },
            "text/plain": [
              "Dropdown(description='Device:', index=2, options=('CPU', 'GPU', 'AUTO'), value='AUTO')"
            ]
          },
          "execution_count": 3,
          "metadata": {},
          "output_type": "execute_result"
        }
      ],
      "source": [
        "import ipywidgets as widgets\n",
        "\n",
        "core = ov.Core()\n",
        "\n",
        "device = widgets.Dropdown(\n",
        "    options=core.available_devices + [\"AUTO\"],\n",
        "    value='AUTO',\n",
        "    description='Device:',\n",
        "    disabled=False,\n",
        ")\n",
        "\n",
        "device"
      ]
    },
    {
      "cell_type": "code",
      "execution_count": 5,
      "metadata": {
        "id": "y3jQamKQO7jy"
      },
      "outputs": [],
      "source": [
        "# Read the network and corresponding weights from a file.\n",
        "model = core.read_model(model='best.xml')\n",
        "# Compile the model for CPU (you can choose manually CPU, GPU etc.)\n",
        "# or let the engine choose the best available device (AUTO).\n",
        "compiled_model = core.compile_model(model=model, device_name=device.value)\n",
        "\n",
        "# Get the input and output nodes.\n",
        "input_layer = compiled_model.input(0)\n",
        "output_layer = compiled_model.output(0)\n",
        "\n",
        "# Get the input size.\n",
        "height, width = list(input_layer.shape)[1:3]"
      ]
    },
    {
      "cell_type": "markdown",
      "metadata": {
        "id": "g_omyqpLO7jy"
      },
      "source": [
        "Input and output layers have the names of the input node and output node respectively. In the case of SSDLite MobileNetV2, there is 1 input and 1 output."
      ]
    },
    {
      "cell_type": "code",
      "execution_count": 6,
      "metadata": {
        "colab": {
          "base_uri": "https://localhost:8080/"
        },
        "id": "p5U_Vt7SO7jz",
        "outputId": "ea19a007-8d2a-4a97-e415-ba3d6418927d"
      },
      "outputs": [
        {
          "data": {
            "text/plain": [
              "('images', 'output0')"
            ]
          },
          "execution_count": 6,
          "metadata": {},
          "output_type": "execute_result"
        }
      ],
      "source": [
        "input_layer.any_name, output_layer.any_name"
      ]
    },
    {
      "cell_type": "markdown",
      "metadata": {
        "id": "qcuFrMfXO7jz"
      },
      "source": [
        "## Processing\n",
        "[back to top ⬆️](#Table-of-contents:)\n",
        "\n",
        "### Process Results\n",
        "[back to top ⬆️](#Table-of-contents:)\n",
        "\n",
        "First, list all available classes and create colors for them. Then, in the post-process stage, transform boxes with normalized coordinates `[0, 1]` into boxes with pixel coordinates `[0, image_size_in_px]`. Afterward, use [non-maximum suppression](https://paperswithcode.com/method/non-maximum-suppression) to reject overlapping detections and those below the probability threshold (0.5). Finally, draw boxes and labels inside them."
      ]
    },
    {
      "cell_type": "code",
      "execution_count": 7,
      "metadata": {
        "id": "LGVZOm_kO7jz"
      },
      "outputs": [],
      "source": [
        "# https://tech.amikelive.com/node-718/what-object-categories-labels-are-in-coco-dataset/\n",
        "classes = [\n",
        "    'EunHwan'\n",
        "]\n",
        "\n",
        "# Colors for the classes above (Rainbow Color Map).\n",
        "colors = cv2.applyColorMap(\n",
        "    src=np.arange(0, 255, 255 / len(classes), dtype=np.float32).astype(np.uint8),\n",
        "    colormap=cv2.COLORMAP_RAINBOW,\n",
        ").squeeze()\n",
        "\n",
        "\n",
        "def process_results(frame, results, thresh=0.6):\n",
        "    # The size of the original frame.\n",
        "    h, w = frame.shape[:2]\n",
        "    # The 'results' variable is a [1, 1, 100, 7] tensor.\n",
        "    results = results.squeeze()\n",
        "    boxes = []\n",
        "    labels = []\n",
        "    scores = []\n",
        "    for _, label, score, xmin, ymin, xmax, ymax in results:\n",
        "        # Create a box with pixels coordinates from the box with normalized coordinates [0,1].\n",
        "        boxes.append(\n",
        "            tuple(map(int, (xmin * w, ymin * h, (xmax - xmin) * w, (ymax - ymin) * h)))\n",
        "        )\n",
        "        labels.append(int(label))\n",
        "        scores.append(float(score))\n",
        "\n",
        "    # Apply non-maximum suppression to get rid of many overlapping entities.\n",
        "    # See https://paperswithcode.com/method/non-maximum-suppression\n",
        "    # This algorithm returns indices of objects to keep.\n",
        "    indices = cv2.dnn.NMSBoxes(\n",
        "        bboxes=boxes, scores=scores, score_threshold=thresh, nms_threshold=0.6\n",
        "    )\n",
        "\n",
        "    # If there are no boxes.\n",
        "    if len(indices) == 0:\n",
        "        return []\n",
        "\n",
        "    # Filter detected objects.\n",
        "    return [(labels[idx], scores[idx], boxes[idx]) for idx in indices.flatten()]\n",
        "\n",
        "\n",
        "def draw_boxes(frame, boxes):\n",
        "    for label, score, box in boxes:\n",
        "        # Choose color for the label.\n",
        "        color = tuple(map(int, colors[label]))\n",
        "        # Draw a box.\n",
        "        x2 = box[0] + box[2]\n",
        "        y2 = box[1] + box[3]\n",
        "        cv2.rectangle(img=frame, pt1=box[:2], pt2=(x2, y2), color=color, thickness=3)\n",
        "\n",
        "        # Draw a label name inside the box.\n",
        "        cv2.putText(\n",
        "            img=frame,\n",
        "            text=f\"{classes[label]} {score:.2f}\",\n",
        "            org=(box[0] + 10, box[1] + 30),\n",
        "            fontFace=cv2.FONT_HERSHEY_COMPLEX,\n",
        "            fontScale=frame.shape[1] / 1000,\n",
        "            color=color,\n",
        "            thickness=1,\n",
        "            lineType=cv2.LINE_AA,\n",
        "        )\n",
        "\n",
        "    return frame"
      ]
    },
    {
      "cell_type": "markdown",
      "metadata": {
        "id": "ggl7ZmJmO7jz"
      },
      "source": [
        "### Main Processing Function\n",
        "[back to top ⬆️](#Table-of-contents:)\n",
        "\n",
        "Run object detection on the specified source. Either a webcam or a video file."
      ]
    },
    {
      "cell_type": "code",
      "execution_count": 8,
      "metadata": {
        "id": "xDP9a9VUO7jz"
      },
      "outputs": [],
      "source": [
        "# Main processing function to run object detection.\n",
        "def run_object_detection(source=0, flip=False, use_popup=False, skip_first_frames=0):\n",
        "    player = None\n",
        "    try:\n",
        "        # Create a video player to play with target fps.\n",
        "        player = utils.VideoPlayer(\n",
        "            source=source, flip=flip, fps=30, skip_first_frames=skip_first_frames\n",
        "        )\n",
        "        # Start capturing.\n",
        "        player.start()\n",
        "        if use_popup:\n",
        "            title = \"Press ESC to Exit\"\n",
        "            cv2.namedWindow(\n",
        "                winname=title, flags=cv2.WINDOW_GUI_NORMAL | cv2.WINDOW_AUTOSIZE\n",
        "            )\n",
        "\n",
        "        processing_times = collections.deque()\n",
        "        while True:\n",
        "            # Grab the frame.\n",
        "            frame = player.next()\n",
        "            if frame is None:\n",
        "                print(\"Source ended\")\n",
        "                break\n",
        "            # If the frame is larger than full HD, reduce size to improve the performance.\n",
        "            scale = 1280 / max(frame.shape)\n",
        "            if scale < 1:\n",
        "                frame = cv2.resize(\n",
        "                    src=frame,\n",
        "                    dsize=None,\n",
        "                    fx=scale,\n",
        "                    fy=scale,\n",
        "                    interpolation=cv2.INTER_AREA,\n",
        "                )\n",
        "\n",
        "            # Resize the image and change dims to fit neural network input.\n",
        "            input_img = cv2.resize(\n",
        "                src=frame, dsize=(width, height), interpolation=cv2.INTER_AREA\n",
        "            )\n",
        "            # Create a batch of images (size = 1).\n",
        "            input_img = input_img[np.newaxis, ...]\n",
        "\n",
        "            # Measure processing time.\n",
        "\n",
        "            start_time = time.time()\n",
        "            # Get the results.\n",
        "            results = compiled_model([input_img])[output_layer]\n",
        "            stop_time = time.time()\n",
        "            # Get poses from network results.\n",
        "            boxes = process_results(frame=frame, results=results)\n",
        "\n",
        "            # Draw boxes on a frame.\n",
        "            frame = draw_boxes(frame=frame, boxes=boxes)\n",
        "\n",
        "            processing_times.append(stop_time - start_time)\n",
        "            # Use processing times from last 200 frames.\n",
        "            if len(processing_times) > 200:\n",
        "                processing_times.popleft()\n",
        "\n",
        "            _, f_width = frame.shape[:2]\n",
        "            # Mean processing time [ms].\n",
        "            processing_time = np.mean(processing_times) * 1000\n",
        "            fps = 1000 / processing_time\n",
        "            cv2.putText(\n",
        "                img=frame,\n",
        "                text=f\"Inference time: {processing_time:.1f}ms ({fps:.1f} FPS)\",\n",
        "                org=(20, 40),\n",
        "                fontFace=cv2.FONT_HERSHEY_COMPLEX,\n",
        "                fontScale=f_width / 1000,\n",
        "                color=(0, 0, 255),\n",
        "                thickness=1,\n",
        "                lineType=cv2.LINE_AA,\n",
        "            )\n",
        "\n",
        "            # Use this workaround if there is flickering.\n",
        "            if use_popup:\n",
        "                cv2.imshow(winname=title, mat=frame)\n",
        "                key = cv2.waitKey(1)\n",
        "                # escape = 27\n",
        "                if key == 27:\n",
        "                    break\n",
        "            else:\n",
        "                # Encode numpy array to jpg.\n",
        "                _, encoded_img = cv2.imencode(\n",
        "                    ext=\".jpg\", img=frame, params=[cv2.IMWRITE_JPEG_QUALITY, 100]\n",
        "                )\n",
        "                # Create an IPython image.\n",
        "                i = display.Image(data=encoded_img)\n",
        "                # Display the image in this notebook.\n",
        "                display.clear_output(wait=True)\n",
        "                display.display(i)\n",
        "    # ctrl-c\n",
        "    except KeyboardInterrupt:\n",
        "        print(\"Interrupted\")\n",
        "    # any different error\n",
        "    except RuntimeError as e:\n",
        "        print(e)\n",
        "    finally:\n",
        "        if player is not None:\n",
        "            # Stop capturing.\n",
        "            player.stop()\n",
        "        if use_popup:\n",
        "            cv2.destroyAllWindows()"
      ]
    },
    {
      "cell_type": "markdown",
      "metadata": {
        "id": "_CkOpt3NO7j0"
      },
      "source": [
        "## Run\n",
        "[back to top ⬆️](#Table-of-contents:)\n",
        "\n",
        "### Run Live Object Detection\n",
        "[back to top ⬆️](#Table-of-contents:)\n",
        "\n",
        "Use a webcam as the video input. By default, the primary webcam is set with `source=0`. If you have multiple webcams, each one will be assigned a consecutive number starting at 0. Set `flip=True` when using a front-facing camera. Some web browsers, especially Mozilla Firefox, may cause flickering. If you experience flickering, set `use_popup=True`.\n",
        "\n",
        "> **NOTE**: To use this notebook with a webcam, you need to run the notebook on a computer with a webcam. If you run the notebook on a server (for example, Binder), the webcam will not work. Popup mode may not work if you run this notebook on a remote computer (for example, Binder).\n",
        "\n",
        "If you do not have a webcam, you can still run this demo with a video file. Any [format supported by OpenCV](https://docs.opencv.org/4.5.1/dd/d43/tutorial_py_video_display.html) will work.\n",
        "\n",
        "Run the object detection:"
      ]
    },
    {
      "cell_type": "code",
      "execution_count": 11,
      "metadata": {
        "colab": {
          "base_uri": "https://localhost:8080/"
        },
        "id": "1HB6wA5aO7j0",
        "outputId": "aa671e72-e8b0-432c-f825-11e5e6cfefee"
      },
      "outputs": [
        {
          "name": "stdout",
          "output_type": "stream",
          "text": [
            "Exception from src\\inference\\src\\infer_request.cpp:120:\n",
            "Exception from src\\inference\\src\\infer_request.cpp:74:\n",
            "Exception from src\\inference\\src\\dev\\isync_infer_request.cpp:217:\n",
            "Failed to set tensor. Check 'is_dynamic || port.get_shape() == tensor->get_shape()' failed at src\\inference\\src\\dev\\isync_infer_request.cpp:276:\n",
            "The input tensor size is not equal to the model input type: got [1,3,640,3] expecting [1,3,640,640].\n",
            "\n",
            "\n",
            "\n",
            "\n"
          ]
        }
      ],
      "source": [
        "USE_WEBCAM = True\n",
        "\n",
        "run_object_detection(source=0, flip=isinstance(0, int), use_popup=False)"
      ]
    },
    {
      "cell_type": "markdown",
      "metadata": {
        "id": "9L7jJtf_O7j0"
      },
      "source": [
        "## References\n",
        "[back to top ⬆️](#Table-of-contents:)\n",
        "\n",
        "1. [SSDLite MobileNetV2](https://github.com/openvinotoolkit/open_model_zoo/tree/master/models/public/ssdlite_mobilenet_v2)\n",
        "2. [Open Model Zoo](https://github.com/openvinotoolkit/open_model_zoo/)\n",
        "3. [Non-Maximum Suppression](https://paperswithcode.com/method/non-maximum-suppression)"
      ]
    }
  ],
  "metadata": {
    "accelerator": "GPU",
    "colab": {
      "gpuType": "T4",
      "provenance": []
    },
    "kernelspec": {
      "display_name": "Python 3.10.2 64-bit",
      "language": "python",
      "name": "python3"
    },
    "language_info": {
      "codemirror_mode": {
        "name": "ipython",
        "version": 3
      },
      "file_extension": ".py",
      "mimetype": "text/x-python",
      "name": "python",
      "nbconvert_exporter": "python",
      "pygments_lexer": "ipython3",
      "version": "3.10.2"
    },
    "openvino_notebooks": {
      "imageUrl": "https://user-images.githubusercontent.com/4547501/141471665-82b28c86-cf64-4bfe-98b3-c314658f2d96.gif",
      "tags": {
        "categories": [
          "Live Demos"
        ],
        "libraries": [],
        "other": [],
        "tasks": [
          "Object Detection"
        ]
      }
    },
    "vscode": {
      "interpreter": {
        "hash": "a39e7ddc9dfb8082eb6001d7a48c79e06ecd95cabe58ed66449bf8dbcc6e6457"
      }
    },
    "widgets": {
      "application/vnd.jupyter.widget-state+json": {
        "62dd355440454aa88ab09a1eaad3ebf3": {
          "model_module": "@jupyter-widgets/controls",
          "model_module_version": "1.5.0",
          "model_name": "DropdownModel",
          "state": {
            "_dom_classes": [],
            "_model_module": "@jupyter-widgets/controls",
            "_model_module_version": "1.5.0",
            "_model_name": "DropdownModel",
            "_options_labels": [
              "CPU",
              "AUTO"
            ],
            "_view_count": null,
            "_view_module": "@jupyter-widgets/controls",
            "_view_module_version": "1.5.0",
            "_view_name": "DropdownView",
            "description": "Device:",
            "description_tooltip": null,
            "disabled": false,
            "index": 0,
            "layout": "IPY_MODEL_95c7d49e56c047afb7c1461d23dbefd5",
            "style": "IPY_MODEL_ddc8c69dabf94a5ea9ef0a4a8feae4b1"
          }
        },
        "95c7d49e56c047afb7c1461d23dbefd5": {
          "model_module": "@jupyter-widgets/base",
          "model_module_version": "1.2.0",
          "model_name": "LayoutModel",
          "state": {
            "_model_module": "@jupyter-widgets/base",
            "_model_module_version": "1.2.0",
            "_model_name": "LayoutModel",
            "_view_count": null,
            "_view_module": "@jupyter-widgets/base",
            "_view_module_version": "1.2.0",
            "_view_name": "LayoutView",
            "align_content": null,
            "align_items": null,
            "align_self": null,
            "border": null,
            "bottom": null,
            "display": null,
            "flex": null,
            "flex_flow": null,
            "grid_area": null,
            "grid_auto_columns": null,
            "grid_auto_flow": null,
            "grid_auto_rows": null,
            "grid_column": null,
            "grid_gap": null,
            "grid_row": null,
            "grid_template_areas": null,
            "grid_template_columns": null,
            "grid_template_rows": null,
            "height": null,
            "justify_content": null,
            "justify_items": null,
            "left": null,
            "margin": null,
            "max_height": null,
            "max_width": null,
            "min_height": null,
            "min_width": null,
            "object_fit": null,
            "object_position": null,
            "order": null,
            "overflow": null,
            "overflow_x": null,
            "overflow_y": null,
            "padding": null,
            "right": null,
            "top": null,
            "visibility": null,
            "width": null
          }
        },
        "ddc8c69dabf94a5ea9ef0a4a8feae4b1": {
          "model_module": "@jupyter-widgets/controls",
          "model_module_version": "1.5.0",
          "model_name": "DescriptionStyleModel",
          "state": {
            "_model_module": "@jupyter-widgets/controls",
            "_model_module_version": "1.5.0",
            "_model_name": "DescriptionStyleModel",
            "_view_count": null,
            "_view_module": "@jupyter-widgets/base",
            "_view_module_version": "1.2.0",
            "_view_name": "StyleView",
            "description_width": ""
          }
        }
      }
    }
  },
  "nbformat": 4,
  "nbformat_minor": 0
}
